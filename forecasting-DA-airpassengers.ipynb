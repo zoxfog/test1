{
 "cells": [
  {
   "cell_type": "code",
   "execution_count": 1,
   "id": "10edec91",
   "metadata": {},
   "outputs": [
    {
     "ename": "KeyboardInterrupt",
     "evalue": "",
     "output_type": "error",
     "traceback": [
      "\u001b[0;31m---------------------------------------------------------------------------\u001b[0m",
      "\u001b[0;31mKeyboardInterrupt\u001b[0m                         Traceback (most recent call last)",
      "\u001b[1;32m/home/lirannoc/research/2/forecasting-DA-airpassengers.ipynb Cell 1\u001b[0m in \u001b[0;36m<cell line: 2>\u001b[0;34m()\u001b[0m\n\u001b[1;32m      <a href='vscode-notebook-cell://ssh-remote%2B7b22686f73744e616d65223a223133322e37322e34342e3730222c2275736572223a226c6972616e6e6f63227d/home/lirannoc/research/2/forecasting-DA-airpassengers.ipynb#W1sdnNjb2RlLXJlbW90ZQ%3D%3D?line=0'>1</a>\u001b[0m \u001b[39mimport\u001b[39;00m \u001b[39mos\u001b[39;00m\n\u001b[0;32m----> <a href='vscode-notebook-cell://ssh-remote%2B7b22686f73744e616d65223a223133322e37322e34342e3730222c2275736572223a226c6972616e6e6f63227d/home/lirannoc/research/2/forecasting-DA-airpassengers.ipynb#W1sdnNjb2RlLXJlbW90ZQ%3D%3D?line=1'>2</a>\u001b[0m \u001b[39mimport\u001b[39;00m \u001b[39mpandas\u001b[39;00m \u001b[39mas\u001b[39;00m \u001b[39mpd\u001b[39;00m\n\u001b[1;32m      <a href='vscode-notebook-cell://ssh-remote%2B7b22686f73744e616d65223a223133322e37322e34342e3730222c2275736572223a226c6972616e6e6f63227d/home/lirannoc/research/2/forecasting-DA-airpassengers.ipynb#W1sdnNjb2RlLXJlbW90ZQ%3D%3D?line=2'>3</a>\u001b[0m \u001b[39mimport\u001b[39;00m \u001b[39mmatplotlib\u001b[39;00m\u001b[39m.\u001b[39;00m\u001b[39mpyplot\u001b[39;00m \u001b[39mas\u001b[39;00m \u001b[39mplt\u001b[39;00m\n\u001b[1;32m      <a href='vscode-notebook-cell://ssh-remote%2B7b22686f73744e616d65223a223133322e37322e34342e3730222c2275736572223a226c6972616e6e6f63227d/home/lirannoc/research/2/forecasting-DA-airpassengers.ipynb#W1sdnNjb2RlLXJlbW90ZQ%3D%3D?line=3'>4</a>\u001b[0m \u001b[39mimport\u001b[39;00m \u001b[39mnumpy\u001b[39;00m \u001b[39mas\u001b[39;00m \u001b[39mnp\u001b[39;00m\n",
      "File \u001b[0;32m~/.conda/envs/da/lib/python3.9/site-packages/pandas/__init__.py:135\u001b[0m, in \u001b[0;36m<module>\u001b[0;34m\u001b[0m\n\u001b[1;32m    117\u001b[0m \u001b[39mfrom\u001b[39;00m \u001b[39mpandas\u001b[39;00m\u001b[39m.\u001b[39;00m\u001b[39mcore\u001b[39;00m\u001b[39m.\u001b[39;00m\u001b[39mcomputation\u001b[39;00m\u001b[39m.\u001b[39;00m\u001b[39mapi\u001b[39;00m \u001b[39mimport\u001b[39;00m \u001b[39meval\u001b[39m\n\u001b[1;32m    119\u001b[0m \u001b[39mfrom\u001b[39;00m \u001b[39mpandas\u001b[39;00m\u001b[39m.\u001b[39;00m\u001b[39mcore\u001b[39;00m\u001b[39m.\u001b[39;00m\u001b[39mreshape\u001b[39;00m\u001b[39m.\u001b[39;00m\u001b[39mapi\u001b[39;00m \u001b[39mimport\u001b[39;00m (\n\u001b[1;32m    120\u001b[0m     concat,\n\u001b[1;32m    121\u001b[0m     lreshape,\n\u001b[0;32m   (...)\u001b[0m\n\u001b[1;32m    132\u001b[0m     qcut,\n\u001b[1;32m    133\u001b[0m )\n\u001b[0;32m--> 135\u001b[0m \u001b[39mfrom\u001b[39;00m \u001b[39mpandas\u001b[39;00m \u001b[39mimport\u001b[39;00m api, arrays, errors, io, plotting, testing, tseries\n\u001b[1;32m    136\u001b[0m \u001b[39mfrom\u001b[39;00m \u001b[39mpandas\u001b[39;00m\u001b[39m.\u001b[39;00m\u001b[39mutil\u001b[39;00m\u001b[39m.\u001b[39;00m\u001b[39m_print_versions\u001b[39;00m \u001b[39mimport\u001b[39;00m show_versions\n\u001b[1;32m    138\u001b[0m \u001b[39mfrom\u001b[39;00m \u001b[39mpandas\u001b[39;00m\u001b[39m.\u001b[39;00m\u001b[39mio\u001b[39;00m\u001b[39m.\u001b[39;00m\u001b[39mapi\u001b[39;00m \u001b[39mimport\u001b[39;00m (\n\u001b[1;32m    139\u001b[0m     \u001b[39m# excel\u001b[39;00m\n\u001b[1;32m    140\u001b[0m     ExcelFile,\n\u001b[0;32m   (...)\u001b[0m\n\u001b[1;32m    168\u001b[0m     read_spss,\n\u001b[1;32m    169\u001b[0m )\n",
      "File \u001b[0;32m~/.conda/envs/da/lib/python3.9/site-packages/pandas/api/__init__.py:2\u001b[0m, in \u001b[0;36m<module>\u001b[0;34m\u001b[0m\n\u001b[1;32m      1\u001b[0m \u001b[39m\"\"\" public toolkit API \"\"\"\u001b[39;00m\n\u001b[0;32m----> 2\u001b[0m \u001b[39mfrom\u001b[39;00m \u001b[39mpandas\u001b[39;00m\u001b[39m.\u001b[39;00m\u001b[39mapi\u001b[39;00m \u001b[39mimport\u001b[39;00m (  \u001b[39m# noqa:F401\u001b[39;00m\n\u001b[1;32m      3\u001b[0m     extensions,\n\u001b[1;32m      4\u001b[0m     indexers,\n\u001b[1;32m      5\u001b[0m     types,\n\u001b[1;32m      6\u001b[0m )\n",
      "File \u001b[0;32m<frozen importlib._bootstrap>:1007\u001b[0m, in \u001b[0;36m_find_and_load\u001b[0;34m(name, import_)\u001b[0m\n",
      "File \u001b[0;32m<frozen importlib._bootstrap>:986\u001b[0m, in \u001b[0;36m_find_and_load_unlocked\u001b[0;34m(name, import_)\u001b[0m\n",
      "File \u001b[0;32m<frozen importlib._bootstrap>:680\u001b[0m, in \u001b[0;36m_load_unlocked\u001b[0;34m(spec)\u001b[0m\n",
      "File \u001b[0;32m<frozen importlib._bootstrap_external>:846\u001b[0m, in \u001b[0;36mexec_module\u001b[0;34m(self, module)\u001b[0m\n",
      "File \u001b[0;32m<frozen importlib._bootstrap_external>:941\u001b[0m, in \u001b[0;36mget_code\u001b[0;34m(self, fullname)\u001b[0m\n",
      "File \u001b[0;32m<frozen importlib._bootstrap_external>:1040\u001b[0m, in \u001b[0;36mget_data\u001b[0;34m(self, path)\u001b[0m\n",
      "\u001b[0;31mKeyboardInterrupt\u001b[0m: "
     ]
    }
   ],
   "source": [
    "\n",
    "import os\n",
    "import pandas as pd\n",
    "import matplotlib.pyplot as plt\n",
    "import numpy as np\n",
    "import math\n",
    "import torch\n",
    "import darts\n",
    "from darts.dataprocessing.transformers import Scaler\n",
    "from darts import TimeSeries\n",
    "\n",
    "\n",
    "import da_transformations as da\n",
    "import da_forecasting\n",
    "from da_datasets import UnivariateDataset, get_dataset,get_m3,arange_m3\n",
    "\n"
   ]
  },
  {
   "cell_type": "code",
   "execution_count": null,
   "id": "e2a79f56",
   "metadata": {},
   "outputs": [
    {
     "name": "stdout",
     "output_type": "stream",
     "text": [
      "119\n"
     ]
    }
   ],
   "source": [
    "seed = np.random.randint(low = 0,high = 1000)\n",
    "print(seed)\n",
    "\n",
    "datasets = ['AirPassengers']\n",
    "data, seasonality = get_dataset(datasets[0]) \n",
    "\n",
    "models = ['RNN','N-BEATS-G','N-BEATS-I','TRANSFORMER','TCN']\n",
    "models = ['RNN']\n",
    "split = 0.7\n",
    "reps = 1\n",
    "inlen = 12\n",
    "outlen = 6"
   ]
  },
  {
   "cell_type": "markdown",
   "id": "21ca354c",
   "metadata": {},
   "source": [
    "## Baseline"
   ]
  },
  {
   "cell_type": "code",
   "execution_count": null,
   "id": "7cc70074",
   "metadata": {},
   "outputs": [
    {
     "data": {
      "image/png": "[encoded data removed]",
      "text/plain": [
       "<Figure size 432x288 with 1 Axes>"
      ]
     },
     "metadata": {
      "needs_background": "light"
     },
     "output_type": "display_data"
    }
   ],
   "source": [
    "plt.plot(data)\n",
    "plt.show()"
   ]
  },
  {
   "cell_type": "code",
   "execution_count": null,
   "id": "f275936e",
   "metadata": {
    "scrolled": true
   },
   "outputs": [
    {
     "name": "stderr",
     "output_type": "stream",
     "text": [
      "2022-08-07 17:16:22 darts.models.forecasting.torch_forecasting_model INFO: Time series values are 64-bits; casting model to float64.\n",
      "2022-08-07 17:16:22 pytorch_lightning.utilities.distributed INFO: GPU available: True, used: True\n",
      "2022-08-07 17:16:22 pytorch_lightning.utilities.distributed INFO: TPU available: False, using: 0 TPU cores\n",
      "2022-08-07 17:16:22 pytorch_lightning.utilities.distributed INFO: IPU available: False, using: 0 IPUs\n",
      "2022-08-07 17:16:22 pytorch_lightning.accelerators.gpu INFO: LOCAL_RANK: 0 - CUDA_VISIBLE_DEVICES: [0]\n"
     ]
    },
    {
     "name": "stdout",
     "output_type": "stream",
     "text": [
      "(6, 1)\n"
     ]
    },
    {
     "name": "stderr",
     "output_type": "stream",
     "text": [
      "2022-08-07 17:16:28 pytorch_lightning.callbacks.model_summary INFO: \n",
      "  | Name          | Type             | Params\n",
      "---------------------------------------------------\n",
      "0 | criterion     | MSELoss          | 0     \n",
      "1 | train_metrics | MetricCollection | 0     \n",
      "2 | val_metrics   | MetricCollection | 0     \n",
      "3 | rnn           | RNN              | 30.5 K\n",
      "4 | fc            | Sequential       | 606   \n",
      "---------------------------------------------------\n",
      "31.1 K    Trainable params\n",
      "0         Non-trainable params\n",
      "31.1 K    Total params\n",
      "0.249     Total estimated model params size (MB)\n"
     ]
    },
    {
     "name": "stdout",
     "output_type": "stream",
     "text": [
      "Epoch 81:  67%|██████▋   | 2/3 [00:00<00:00, 56.47it/s, loss=0.00369, train_loss=0.00286] "
     ]
    },
    {
     "name": "stderr",
     "output_type": "stream",
     "text": [
      "/home/lirannoc/.conda/envs/da/lib/python3.9/site-packages/pytorch_lightning/trainer/trainer.py:688: UserWarning: Detected KeyboardInterrupt, attempting graceful shutdown...\n",
      "  rank_zero_warn(\"Detected KeyboardInterrupt, attempting graceful shutdown...\")\n",
      "2022-08-07 17:16:32 pytorch_lightning.accelerators.gpu INFO: LOCAL_RANK: 0 - CUDA_VISIBLE_DEVICES: [0]\n"
     ]
    },
    {
     "name": "stdout",
     "output_type": "stream",
     "text": [
      "Predicting: 100%|██████████| 2/2 [00:00<?, ?it/s]\n"
     ]
    },
    {
     "data": {
      "image/png": "[encoded data removed]",
      "text/plain": [
       "<Figure size 432x288 with 1 Axes>"
      ]
     },
     "metadata": {
      "needs_background": "light"
     },
     "output_type": "display_data"
    },
    {
     "data": {
      "text/html": [
       "<div>\n",
       "<style scoped>\n",
       "    .dataframe tbody tr th:only-of-type {\n",
       "        vertical-align: middle;\n",
       "    }\n",
       "\n",
       "    .dataframe tbody tr th {\n",
       "        vertical-align: top;\n",
       "    }\n",
       "\n",
       "    .dataframe thead th {\n",
       "        text-align: right;\n",
       "    }\n",
       "</style>\n",
       "<table border=\"1\" class=\"dataframe\">\n",
       "  <thead>\n",
       "    <tr style=\"text-align: right;\">\n",
       "      <th></th>\n",
       "      <th>Dataset</th>\n",
       "      <th>Model</th>\n",
       "      <th>avg MAPE</th>\n",
       "      <th>avg RMSE</th>\n",
       "      <th>avg sMAPE</th>\n",
       "      <th>std MAPE</th>\n",
       "      <th>std RMSE</th>\n",
       "      <th>std sMAPE</th>\n",
       "      <th>n ops</th>\n",
       "      <th>mag</th>\n",
       "      <th>op prob</th>\n",
       "    </tr>\n",
       "  </thead>\n",
       "  <tbody>\n",
       "    <tr>\n",
       "      <th>0</th>\n",
       "      <td>AirPassengers</td>\n",
       "      <td>RNN</td>\n",
       "      <td>7.81392</td>\n",
       "      <td>46.555</td>\n",
       "      <td>8.027</td>\n",
       "      <td>0.0</td>\n",
       "      <td>0.0</td>\n",
       "      <td>0.0</td>\n",
       "      <td>0</td>\n",
       "      <td>[]</td>\n",
       "      <td>[]</td>\n",
       "    </tr>\n",
       "  </tbody>\n",
       "</table>\n",
       "</div>"
      ],
      "text/plain": [
       "         Dataset Model avg MAPE avg RMSE avg sMAPE std MAPE std RMSE  \\\n",
       "0  AirPassengers   RNN  7.81392   46.555     8.027      0.0      0.0   \n",
       "\n",
       "  std sMAPE n ops mag op prob  \n",
       "0       0.0     0  []      []  "
      ]
     },
     "execution_count": 4,
     "metadata": {},
     "output_type": "execute_result"
    }
   ],
   "source": [
    "\n",
    "aug_n = 0 # number of operations\n",
    "aug_m = [] # magnitude per operation\n",
    "aug_p = [] # probability density function for the transformations\n",
    "baseline_result  = da_forecasting.run(models = models, dataset_names = datasets,\n",
    "            split=split,\n",
    "            inlen=inlen, outlen=outlen,\n",
    "            reps=reps,\n",
    "            aug_n_ops=aug_n , aug_mag=aug_m, aug_prob=aug_p,\n",
    "            plot = True,\n",
    "            seed = seed)      \n",
    "baseline_result\n"
   ]
  },
  {
   "cell_type": "markdown",
   "id": "3eb53673",
   "metadata": {},
   "source": [
    "# Identity"
   ]
  },
  {
   "cell_type": "code",
   "execution_count": null,
   "id": "716c761c",
   "metadata": {},
   "outputs": [
    {
     "data": {
      "image/png": "[encoded data removed]",
      "text/plain": [
       "<Figure size 1080x216 with 2 Axes>"
      ]
     },
     "metadata": {
      "needs_background": "light"
     },
     "output_type": "display_data"
    }
   ],
   "source": [
    "da.plot_augmentation(data,seasonality,\"Identity\")"
   ]
  },
  {
   "cell_type": "code",
   "execution_count": null,
   "id": "18530b3a",
   "metadata": {},
   "outputs": [
    {
     "data": {
      "image/png": "[encoded data removed]",
      "text/plain": [
       "<Figure size 432x288 with 1 Axes>"
      ]
     },
     "metadata": {
      "needs_background": "light"
     },
     "output_type": "display_data"
    },
    {
     "name": "stderr",
     "output_type": "stream",
     "text": [
      "2022-07-28 17:46:59 darts.models.forecasting.torch_forecasting_model INFO: Time series values are 64-bits; casting model to float64.\n",
      "2022-07-28 17:46:59 pytorch_lightning.utilities.distributed INFO: GPU available: True, used: True\n",
      "2022-07-28 17:46:59 pytorch_lightning.utilities.distributed INFO: TPU available: False, using: 0 TPU cores\n",
      "2022-07-28 17:46:59 pytorch_lightning.utilities.distributed INFO: IPU available: False, using: 0 IPUs\n",
      "2022-07-28 17:46:59 pytorch_lightning.accelerators.gpu INFO: LOCAL_RANK: 0 - CUDA_VISIBLE_DEVICES: [0]\n",
      "2022-07-28 17:46:59 pytorch_lightning.trainer.connectors.signal_connector INFO: Set SLURM handle signals.\n",
      "2022-07-28 17:46:59 pytorch_lightning.callbacks.model_summary INFO: \n",
      "  | Name          | Type             | Params\n",
      "---------------------------------------------------\n",
      "0 | criterion     | MSELoss          | 0     \n",
      "1 | train_metrics | MetricCollection | 0     \n",
      "2 | val_metrics   | MetricCollection | 0     \n",
      "3 | rnn           | RNN              | 30.5 K\n",
      "4 | fc            | Sequential       | 606   \n",
      "---------------------------------------------------\n",
      "31.1 K    Trainable params\n",
      "0         Non-trainable params\n",
      "31.1 K    Total params\n",
      "0.249     Total estimated model params size (MB)\n"
     ]
    },
    {
     "name": "stdout",
     "output_type": "stream",
     "text": [
      "Epoch 199: 100%|██████████| 6/6 [00:00<00:00, 174.20it/s, loss=0.00235, train_loss=0.00512] \n"
     ]
    },
    {
     "name": "stderr",
     "output_type": "stream",
     "text": [
      "2022-07-28 17:47:05 pytorch_lightning.accelerators.gpu INFO: LOCAL_RANK: 0 - CUDA_VISIBLE_DEVICES: [0]\n"
     ]
    },
    {
     "name": "stdout",
     "output_type": "stream",
     "text": [
      "Predicting: 6it [00:00, ?it/s]\n"
     ]
    },
    {
     "data": {
      "image/png": "[encoded data removed]",
      "text/plain": [
       "<Figure size 432x288 with 1 Axes>"
      ]
     },
     "metadata": {
      "needs_background": "light"
     },
     "output_type": "display_data"
    },
    {
     "data": {
      "text/html": [
       "<div>\n",
       "<style scoped>\n",
       "    .dataframe tbody tr th:only-of-type {\n",
       "        vertical-align: middle;\n",
       "    }\n",
       "\n",
       "    .dataframe tbody tr th {\n",
       "        vertical-align: top;\n",
       "    }\n",
       "\n",
       "    .dataframe thead th {\n",
       "        text-align: right;\n",
       "    }\n",
       "</style>\n",
       "<table border=\"1\" class=\"dataframe\">\n",
       "  <thead>\n",
       "    <tr style=\"text-align: right;\">\n",
       "      <th></th>\n",
       "      <th>Dataset</th>\n",
       "      <th>Model</th>\n",
       "      <th>avg MAPE</th>\n",
       "      <th>avg RMSE</th>\n",
       "      <th>avg sMAPE</th>\n",
       "      <th>std MAPE</th>\n",
       "      <th>std RMSE</th>\n",
       "      <th>std sMAPE</th>\n",
       "      <th>n ops</th>\n",
       "      <th>mag</th>\n",
       "      <th>op prob</th>\n",
       "    </tr>\n",
       "  </thead>\n",
       "  <tbody>\n",
       "    <tr>\n",
       "      <th>0</th>\n",
       "      <td>AirPassengers</td>\n",
       "      <td>RNN</td>\n",
       "      <td>6.225</td>\n",
       "      <td>36.36</td>\n",
       "      <td>6.392</td>\n",
       "      <td>0.0</td>\n",
       "      <td>0.0</td>\n",
       "      <td>0.0</td>\n",
       "      <td>1</td>\n",
       "      <td>[5]</td>\n",
       "      <td>[array([1, 0, 0, 0, 0, 0, 0, 0, 0, 0, 0, 0, 0])]</td>\n",
       "    </tr>\n",
       "  </tbody>\n",
       "</table>\n",
       "</div>"
      ],
      "text/plain": [
       "         Dataset Model avg MAPE avg RMSE avg sMAPE std MAPE std RMSE  \\\n",
       "0  AirPassengers   RNN    6.225    36.36     6.392      0.0      0.0   \n",
       "\n",
       "  std sMAPE n ops  mag                                           op prob  \n",
       "0       0.0     1  [5]  [array([1, 0, 0, 0, 0, 0, 0, 0, 0, 0, 0, 0, 0])]  "
      ]
     },
     "execution_count": 7,
     "metadata": {},
     "output_type": "execute_result"
    }
   ],
   "source": [
    "\n",
    "aug_n = 1\n",
    "aug_m = [5]\n",
    "aug_p = [(np.array(list(da.ranges.keys()))=='Identity').astype(int)]\n",
    "iden_results = da_forecasting.run(models = models, dataset_names = datasets,\n",
    "            split=split,\n",
    "            inlen=inlen, outlen=outlen,\n",
    "            reps=reps,\n",
    "            aug_n_ops=aug_n , aug_mag=aug_m, aug_prob=aug_p,\n",
    "            plot = True,\n",
    "            seed=seed)\n",
    "iden_results"
   ]
  },
  {
   "cell_type": "markdown",
   "id": "6abf4735",
   "metadata": {},
   "source": [
    "# Jittering"
   ]
  },
  {
   "cell_type": "code",
   "execution_count": null,
   "id": "09d59031",
   "metadata": {},
   "outputs": [],
   "source": [
    "da.plot_augmentation(data,seasonality,\"Jittering\")"
   ]
  },
  {
   "cell_type": "code",
   "execution_count": null,
   "id": "7a5e6c8f",
   "metadata": {
    "scrolled": true
   },
   "outputs": [],
   "source": [
    "\n",
    "aug_n = 1\n",
    "aug_m = [1]\n",
    "aug_p = [(np.array(list(da.ranges.keys()))=='Jittering').astype(int)]\n",
    "jitter_results = da_forecasting.run(models = models, dataset_names = datasets,\n",
    "            split=split,\n",
    "            inlen=inlen, outlen=outlen,\n",
    "            reps=reps,\n",
    "            aug_n_ops=aug_n , aug_mag=aug_m, aug_prob=aug_p,\n",
    "            plot = True,\n",
    "            seed = seed) \n",
    "jitter_results"
   ]
  },
  {
   "cell_type": "markdown",
   "id": "3c7746b8",
   "metadata": {},
   "source": [
    "# Flip"
   ]
  },
  {
   "cell_type": "code",
   "execution_count": null,
   "id": "c273401a",
   "metadata": {},
   "outputs": [],
   "source": [
    "da.plot_augmentation(data,seasonality,\"Flip\")"
   ]
  },
  {
   "cell_type": "code",
   "execution_count": null,
   "id": "5f643614",
   "metadata": {},
   "outputs": [],
   "source": [
    "aug_n = 1\n",
    "aug_m = [5]\n",
    "aug_p = [(np.array(list(da.ranges.keys()))=='Flip').astype(int)]\n",
    "flip_results = da_forecasting.run(models = models, dataset_names = datasets,\n",
    "            split=split,\n",
    "            inlen=inlen, outlen=outlen,\n",
    "            reps=reps,\n",
    "            aug_n_ops=aug_n , aug_mag=aug_m, aug_prob=aug_p,\n",
    "            plot = True,\n",
    "            seed=seed)\n",
    "flip_results"
   ]
  },
  {
   "cell_type": "markdown",
   "id": "b7ccc66c",
   "metadata": {},
   "source": [
    "# Trend Scale"
   ]
  },
  {
   "cell_type": "code",
   "execution_count": null,
   "id": "f6c21f68",
   "metadata": {},
   "outputs": [],
   "source": [
    "da.plot_augmentation(data,seasonality,\"Trend Scale\")"
   ]
  },
  {
   "cell_type": "code",
   "execution_count": null,
   "id": "3baedb44",
   "metadata": {},
   "outputs": [],
   "source": [
    "aug_n = 1\n",
    "aug_m = [7]\n",
    "aug_p = [(np.array(list(da.ranges.keys()))=='Trend Scale').astype(int)]\n",
    "trend_scale_results = da_forecasting.run(models = models, dataset_names = datasets,\n",
    "            split=split,\n",
    "            inlen=inlen, outlen=outlen,\n",
    "            reps=reps,\n",
    "            aug_n_ops=aug_n , aug_mag=aug_m, aug_prob=aug_p,\n",
    "            plot = True,seed = seed)\n",
    "trend_scale_results"
   ]
  },
  {
   "cell_type": "markdown",
   "id": "250efb2f",
   "metadata": {},
   "source": [
    "# Permutation"
   ]
  },
  {
   "cell_type": "code",
   "execution_count": null,
   "id": "23898677",
   "metadata": {
    "scrolled": true
   },
   "outputs": [],
   "source": [
    "da.plot_augmentation(data,seasonality,\"Permutation\")"
   ]
  },
  {
   "cell_type": "code",
   "execution_count": null,
   "id": "e8d120b6",
   "metadata": {},
   "outputs": [],
   "source": [
    "aug_n = 1\n",
    "aug_m = [6]\n",
    "aug_p = [(np.array(list(da.ranges.keys()))=='Permutation').astype(int)]\n",
    "perm_results = da_forecasting.run(models = models, dataset_names = datasets,\n",
    "            split=split,\n",
    "            inlen=inlen, outlen=outlen,\n",
    "            reps=reps,\n",
    "            aug_n_ops=aug_n , aug_mag=aug_m, aug_prob=aug_p,\n",
    "            plot = True, seed = seed)\n",
    "perm_results\n"
   ]
  },
  {
   "cell_type": "markdown",
   "id": "dac05f3c",
   "metadata": {},
   "source": [
    "# Scale"
   ]
  },
  {
   "cell_type": "code",
   "execution_count": null,
   "id": "1cdc73e9",
   "metadata": {
    "scrolled": true
   },
   "outputs": [],
   "source": [
    "da.plot_augmentation(data,seasonality,\"Scale\")"
   ]
  },
  {
   "cell_type": "code",
   "execution_count": null,
   "id": "e32ed2da",
   "metadata": {
    "scrolled": true
   },
   "outputs": [],
   "source": [
    "aug_n = 1\n",
    "aug_m = [7]\n",
    "aug_p = [(np.array(list(da.ranges.keys()))=='Scale').astype(int)]\n",
    "scale_results = da_forecasting.run(models = models, dataset_names = datasets,\n",
    "            split=split,\n",
    "            inlen=inlen, outlen=outlen,\n",
    "            reps=reps,\n",
    "            aug_n_ops=aug_n , aug_mag=aug_m, aug_prob=aug_p,\n",
    "            plot = True, seed = seed)\n",
    "scale_results"
   ]
  },
  {
   "cell_type": "markdown",
   "id": "352d7da8",
   "metadata": {},
   "source": [
    "# Reverse"
   ]
  },
  {
   "cell_type": "code",
   "execution_count": null,
   "id": "ee2969e3",
   "metadata": {},
   "outputs": [],
   "source": [
    "da.plot_augmentation(data,seasonality,\"Reverse\")"
   ]
  },
  {
   "cell_type": "code",
   "execution_count": null,
   "id": "e28a49b8",
   "metadata": {},
   "outputs": [],
   "source": [
    "aug_n = 1\n",
    "aug_m = [7]\n",
    "aug_p = [(np.array(list(da.ranges.keys()))=='Reverse').astype(int)]\n",
    "reverse_results = da_forecasting.run(models = models, dataset_names = datasets,\n",
    "            split=split,\n",
    "            inlen=inlen, outlen=outlen,\n",
    "            reps=reps,\n",
    "            aug_n_ops=aug_n , aug_mag=aug_m, aug_prob=aug_p,\n",
    "            plot = True,seed = seed)\n",
    "reverse_results"
   ]
  },
  {
   "cell_type": "markdown",
   "id": "fa28c67c",
   "metadata": {},
   "source": [
    "# Smoothing - Temporal Smoothness (Least Squares)"
   ]
  },
  {
   "cell_type": "code",
   "execution_count": null,
   "id": "9b33326c",
   "metadata": {
    "scrolled": true
   },
   "outputs": [],
   "source": [
    "da.plot_augmentation(data,seasonality,\"Smooth LS\")"
   ]
  },
  {
   "cell_type": "code",
   "execution_count": null,
   "id": "f04abac7",
   "metadata": {},
   "outputs": [],
   "source": [
    "aug_n = 1\n",
    "aug_m = [4]\n",
    "aug_p = [(np.array(list(da.ranges.keys()))=='Smooth LS').astype(int)]\n",
    "ls_results = da_forecasting.run(models = models, dataset_names = datasets,\n",
    "            split=split,\n",
    "            inlen=inlen, outlen=outlen,\n",
    "            reps=reps,\n",
    "            aug_n_ops=aug_n , aug_mag=aug_m, aug_prob=aug_p,\n",
    "            plot = True, seed = seed)\n",
    "ls_results"
   ]
  },
  {
   "cell_type": "markdown",
   "id": "6f7c883e",
   "metadata": {},
   "source": [
    "# Smoothing ETS"
   ]
  },
  {
   "cell_type": "code",
   "execution_count": null,
   "id": "391ffc0b",
   "metadata": {},
   "outputs": [],
   "source": [
    "da.plot_augmentation(data,seasonality,\"Smooth ETS\")"
   ]
  },
  {
   "cell_type": "code",
   "execution_count": null,
   "id": "a4fd4023",
   "metadata": {},
   "outputs": [],
   "source": [
    "aug_n = 1\n",
    "aug_m = [4]\n",
    "aug_p = [(np.array(list(da.ranges.keys()))=='Smooth ETS').astype(int)]\n",
    "ets_results = da_forecasting.run(models = models, dataset_names = datasets,\n",
    "            split=split,\n",
    "            inlen=inlen, outlen=outlen,\n",
    "            reps=reps,\n",
    "            aug_n_ops=aug_n , aug_mag=aug_m, aug_prob=aug_p,\n",
    "            plot = True, seed = seed)\n",
    "ets_results"
   ]
  },
  {
   "cell_type": "markdown",
   "id": "a5a9843a",
   "metadata": {},
   "source": [
    "# MBB"
   ]
  },
  {
   "cell_type": "code",
   "execution_count": null,
   "id": "e9c39af8",
   "metadata": {},
   "outputs": [],
   "source": [
    "da.plot_augmentation(data,seasonality,\"MBB\")"
   ]
  },
  {
   "cell_type": "code",
   "execution_count": null,
   "id": "a457cf8e",
   "metadata": {
    "scrolled": true
   },
   "outputs": [],
   "source": [
    "aug_n = 1\n",
    "aug_m = [7]\n",
    "aug_p = [(np.array(list(da.ranges.keys()))=='MBB').astype(int)]\n",
    "mbb_results = da_forecasting.run(models = models, dataset_names = datasets,\n",
    "            split=split,\n",
    "            inlen=inlen, outlen=outlen,\n",
    "            reps=reps,\n",
    "            aug_n_ops=aug_n , aug_mag=aug_m, aug_prob=aug_p,\n",
    "            plot = True,seed = seed)\n",
    "mbb_results"
   ]
  },
  {
   "cell_type": "markdown",
   "id": "73801891",
   "metadata": {},
   "source": [
    "# Gaussian time warping"
   ]
  },
  {
   "cell_type": "code",
   "execution_count": null,
   "id": "a16677b5",
   "metadata": {
    "scrolled": false
   },
   "outputs": [],
   "source": [
    "\n",
    "da.plot_augmentation(data,seasonality,\"Gaussian TW\")"
   ]
  },
  {
   "cell_type": "code",
   "execution_count": null,
   "id": "6098eed8",
   "metadata": {},
   "outputs": [],
   "source": [
    "aug_n = 1\n",
    "aug_m = [2]\n",
    "aug_p = [(np.array(list(da.ranges.keys()))=='Gaussian TW').astype(int)]\n",
    "gtw_results = da_forecasting.run(models = models, dataset_names = datasets,\n",
    "            split=split,\n",
    "            inlen=inlen, outlen=outlen,\n",
    "            reps=reps,\n",
    "            aug_n_ops=aug_n , aug_mag=aug_m, aug_prob=aug_p,\n",
    "            plot = True, seed = seed)\n",
    "gtw_results"
   ]
  },
  {
   "cell_type": "markdown",
   "id": "87df7933",
   "metadata": {},
   "source": [
    "# Dynamic Time Stretching"
   ]
  },
  {
   "cell_type": "code",
   "execution_count": null,
   "id": "06333eef",
   "metadata": {
    "scrolled": true
   },
   "outputs": [],
   "source": [
    "da.plot_augmentation(data,seasonality,\"DTS\")"
   ]
  },
  {
   "cell_type": "code",
   "execution_count": null,
   "id": "31c65a61",
   "metadata": {},
   "outputs": [],
   "source": [
    "aug_n = 1\n",
    "aug_m = [6]\n",
    "aug_p = [(np.array(list(da.ranges.keys()))=='DTS').astype(int)]\n",
    "dts_results = da_forecasting.run(models = models, dataset_names = datasets,\n",
    "            split=split,\n",
    "            inlen=inlen, outlen=outlen,\n",
    "            reps=reps,\n",
    "            aug_n_ops=aug_n , aug_mag=aug_m, aug_prob=aug_p,\n",
    "            plot = True, seed = seed)\n",
    "dts_results"
   ]
  },
  {
   "cell_type": "markdown",
   "id": "35046d25",
   "metadata": {},
   "source": [
    "# Window Warping"
   ]
  },
  {
   "cell_type": "code",
   "execution_count": null,
   "id": "0bd332ab",
   "metadata": {},
   "outputs": [],
   "source": [
    "da.plot_augmentation(data,seasonality,\"Window Warping\")"
   ]
  },
  {
   "cell_type": "code",
   "execution_count": null,
   "id": "be7eb7c1",
   "metadata": {},
   "outputs": [],
   "source": [
    "aug_n = 1\n",
    "aug_m = [5]\n",
    "aug_p = [(np.array(list(da.ranges.keys()))=='DTS').astype(int)]\n",
    "ww_results = da_forecasting.run(models = models, dataset_names = datasets,\n",
    "            split=split,\n",
    "            inlen=inlen, outlen=outlen,\n",
    "            reps=reps,\n",
    "            aug_n_ops=aug_n , aug_mag=aug_m, aug_prob=aug_p,\n",
    "            plot = True, seed = seed)\n",
    "ww_results"
   ]
  },
  {
   "cell_type": "markdown",
   "id": "1f48bc3b",
   "metadata": {},
   "source": [
    "# Save results"
   ]
  },
  {
   "cell_type": "code",
   "execution_count": null,
   "id": "5e45f0cf",
   "metadata": {},
   "outputs": [],
   "source": [
    "results = []\n",
    "results.append(dts_results)\n",
    "results.append(gtw_results)\n",
    "results.append(mbb_results)\n",
    "results.append(ets_results)\n",
    "results.append(ls_results)\n",
    "results.append(reverse_results)\n",
    "results.append(scale_results)\n",
    "results.append(perm_results)\n",
    "results.append(trend_scale_results)\n",
    "results.append(flip_results)\n",
    "results.append(jitter_results)\n",
    "results.append(iden_results)\n",
    "results.append(baseline_result)\n",
    "results.append(ww_results)\n",
    "\n",
    "aug_results = pd.concat(results)\n",
    "aug_results['seed']  = seed"
   ]
  },
  {
   "cell_type": "code",
   "execution_count": null,
   "id": "8dce0e6f",
   "metadata": {},
   "outputs": [],
   "source": [
    "aug_results.to_excel(datasets[0]+\"/seed_\"+str(seed)+\"_aug_results1.xlsx\")"
   ]
  },
  {
   "cell_type": "code",
   "execution_count": null,
   "id": "1dd7b56c",
   "metadata": {},
   "outputs": [],
   "source": [
    "seed"
   ]
  },
  {
   "cell_type": "code",
   "execution_count": null,
   "id": "b6ab4fab",
   "metadata": {},
   "outputs": [],
   "source": []
  }
 ],
 "metadata": {
  "kernelspec": {
   "display_name": "Python 3.9.12 ('da')",
   "language": "python",
   "name": "python3"
  },
  "language_info": {
   "codemirror_mode": {
    "name": "ipython",
    "version": 3
   },
   "file_extension": ".py",
   "mimetype": "text/x-python",
   "name": "python",
   "nbconvert_exporter": "python",
   "pygments_lexer": "ipython3",
   "version": "3.9.12"
  },
  "vscode": {
   "interpreter": {
    "hash": "e6667c42aa3d91091a3420470f416f20300bb17be5a49c174c1bbd9221d7b8f2"
   }
  }
 },
 "nbformat": 4,
 "nbformat_minor": 5
}
