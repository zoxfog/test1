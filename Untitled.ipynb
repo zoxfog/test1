{
 "cells": [
  {
   "cell_type": "code",
   "execution_count": 1,
   "id": "9965a077",
   "metadata": {},
   "outputs": [
    {
     "name": "stderr",
     "output_type": "stream",
     "text": [
      "/home/lirannoc/.conda/envs/da/lib/python3.9/site-packages/tqdm/auto.py:22: TqdmWarning: IProgress not found. Please update jupyter and ipywidgets. See https://ipywidgets.readthedocs.io/en/stable/user_install.html\n",
      "  from .autonotebook import tqdm as notebook_tqdm\n"
     ]
    }
   ],
   "source": [
    "import darts\n",
    "from darts.models import NBEATSModel,BlockRNNModel,RNNModel,ExponentialSmoothing, TCNModel, TransformerModel\n",
    "from statsmodels.tsa.seasonal import STL\n",
    "from darts.utils.data import TrainingDataset, PastCovariatesTrainingDataset\n",
    "from darts.utils.data import PastCovariatesInferenceDataset\n",
    "from darts.dataprocessing.transformers import Scaler\n",
    "from darts import TimeSeries\n",
    "from darts.datasets import AirPassengersDataset, AusBeerDataset\n",
    "from darts.dataprocessing.transformers.boxcox import BoxCox\n",
    "\n",
    "from sklearn.preprocessing import MinMaxScaler\n",
    "from sklearn.metrics import mean_absolute_percentage_error as mape\n",
    "from sklearn.metrics import mean_squared_error as mse\n",
    "\n",
    "import da_transformations as da\n",
    "import da_forecasting\n",
    "from da_datasets import UnivariateDataset, get_dataset"
   ]
  },
  {
   "cell_type": "code",
   "execution_count": 20,
   "id": "6bb13411",
   "metadata": {},
   "outputs": [],
   "source": [
    "import sys\n",
    "from os import getcwd\n",
    "import os\n",
    "from os.path import basename, dirname\n",
    "import pandas as pd\n",
    "import matplotlib.pyplot as plt\n",
    "import numpy as np\n",
    "import math\n",
    "import torch\n",
    "from scipy import stats\n",
    "import random\n",
    "import statsmodels\n",
    "from statsmodels.tsa.seasonal import STL\n",
    "from statsmodels.tools.eval_measures import rmse\n",
    "import yfinance as yf\n",
    "import argparse\n",
    "import sys\n",
    "import darts\n",
    "from darts import TimeSeries"
   ]
  },
  {
   "cell_type": "code",
   "execution_count": 21,
   "id": "f9076a27",
   "metadata": {},
   "outputs": [],
   "source": [
    "data = get_dataset('AirPassengers')[0]"
   ]
  },
  {
   "cell_type": "code",
   "execution_count": 11,
   "id": "58384d4d",
   "metadata": {},
   "outputs": [
    {
     "data": {
      "text/plain": [
       "pandas.core.series.Series"
      ]
     },
     "execution_count": 11,
     "metadata": {},
     "output_type": "execute_result"
    }
   ],
   "source": [
    "type(data)"
   ]
  },
  {
   "cell_type": "code",
   "execution_count": 18,
   "id": "95393c15",
   "metadata": {},
   "outputs": [
    {
     "data": {
      "text/plain": [
       "array([112., 118., 132., 129., 121., 135., 148., 148., 136., 119., 104.,\n",
       "       118., 115., 126., 141., 135., 125., 149., 170., 170., 158., 133.,\n",
       "       114., 140., 145., 150., 178., 163., 172., 178., 199., 199., 184.,\n",
       "       162., 146., 166., 171., 180., 193., 181., 183., 218., 230., 242.,\n",
       "       209., 191., 172., 194., 196., 196., 236., 235., 229., 243., 264.,\n",
       "       272., 237., 211., 180., 201., 204., 188., 235., 227., 234., 264.,\n",
       "       302., 293., 259., 229., 203., 229., 242., 233., 267., 269., 270.,\n",
       "       315., 364., 347., 312., 274., 237., 278., 284., 277., 317., 313.,\n",
       "       318., 374., 413., 405., 355., 306., 271., 306., 315., 301., 356.,\n",
       "       348., 355., 422., 465., 467., 404., 347., 305., 336., 340., 318.,\n",
       "       362., 348., 363., 435., 491., 505., 404., 359., 310., 337., 360.,\n",
       "       342., 406., 396., 420., 472., 548., 559., 463., 407., 362., 405.,\n",
       "       417., 391., 419., 461., 472., 535., 622., 606., 508., 461., 390.,\n",
       "       432.])"
      ]
     },
     "execution_count": 18,
     "metadata": {},
     "output_type": "execute_result"
    }
   ],
   "source": [
    "data.values"
   ]
  },
  {
   "cell_type": "code",
   "execution_count": 58,
   "id": "4b7cfd52",
   "metadata": {},
   "outputs": [],
   "source": [
    "\n",
    "\n",
    "\n",
    "def arange_testset(data, inlen, outlen,split_index,inds = None):\n",
    "\n",
    "    if inds is None:\n",
    "        inds = np.arange(len(data))\n",
    "    val_input_index  = split_index-(inlen+outlen-1)\n",
    "    print(val_input_index)\n",
    "    \n",
    "    seq = []\n",
    "    test_size = len(data[:split_index])\n",
    "    for i in range(test_size):\n",
    "        series_i = i + val_input_index\n",
    "        series_vals = data[series_i:series_i+inlen]\n",
    "        \n",
    "        if inds is not None:\n",
    "            series_inds = pd.DatetimeIndex(inds[series_i:series_i+inlen])\n",
    "            ts = TimeSeries.from_times_and_values(series_inds, series_vals)\n",
    "        else:\n",
    "            ts = TimeSeries.from_values(series_vals)\n",
    "        ts = TimeSeries.from_times_and_values(series_inds, series_vals)\n",
    "        seq.append(ts)\n",
    "    return seq\n",
    "        \n",
    "        \n",
    "    "
   ]
  },
  {
   "cell_type": "code",
   "execution_count": 59,
   "id": "38979bb3",
   "metadata": {},
   "outputs": [
    {
     "name": "stdout",
     "output_type": "stream",
     "text": [
      "43\n"
     ]
    }
   ],
   "source": [
    "seq = arange_testset(data.values, 12, 6,60,inds = data.index)"
   ]
  },
  {
   "cell_type": "code",
   "execution_count": 60,
   "id": "e4f2412a",
   "metadata": {},
   "outputs": [
    {
     "data": {
      "text/plain": [
       "<AxesSubplot:xlabel='Month'>"
      ]
     },
     "execution_count": 60,
     "metadata": {},
     "output_type": "execute_result"
    },
    {
     "data": {
      "image/png": "[encoded data removed]",
      "text/plain": [
       "<Figure size 432x288 with 1 Axes>"
      ]
     },
     "metadata": {
      "needs_background": "light"
     },
     "output_type": "display_data"
    }
   ],
   "source": [
    "data[43:].plot()"
   ]
  },
  {
   "cell_type": "code",
   "execution_count": 61,
   "id": "e2fee905",
   "metadata": {},
   "outputs": [
    {
     "data": {
      "text/plain": [
       "<AxesSubplot:xlabel='Month'>"
      ]
     },
     "execution_count": 61,
     "metadata": {},
     "output_type": "execute_result"
    },
    {
     "data": {
      "image/png": "[encoded data removed]",
      "text/plain": [
       "<Figure size 432x288 with 1 Axes>"
      ]
     },
     "metadata": {
      "needs_background": "light"
     },
     "output_type": "display_data"
    }
   ],
   "source": [
    "data.plot()\n",
    "data[43:].plot()\n",
    "data[43+12:].plot()"
   ]
  }
 ],
 "metadata": {
  "kernelspec": {
   "display_name": "Python 3.9.12 ('da': conda)",
   "language": "python",
   "name": "python3"
  },
  "language_info": {
   "codemirror_mode": {
    "name": "ipython",
    "version": 3
   },
   "file_extension": ".py",
   "mimetype": "text/x-python",
   "name": "python",
   "nbconvert_exporter": "python",
   "pygments_lexer": "ipython3",
   "version": "3.9.12"
  },
  "vscode": {
   "interpreter": {
    "hash": "e6667c42aa3d91091a3420470f416f20300bb17be5a49c174c1bbd9221d7b8f2"
   }
  }
 },
 "nbformat": 4,
 "nbformat_minor": 5
}
